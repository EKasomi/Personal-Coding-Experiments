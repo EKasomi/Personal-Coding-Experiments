{
 "cells": [
  {
   "cell_type": "code",
   "execution_count": 7,
   "metadata": {},
   "outputs": [
    {
     "name": "stdout",
     "output_type": "stream",
     "text": [
      "Odd\n"
     ]
    }
   ],
   "source": [
    "'''“2.6 (Odd or Even) Use if statements to determine whether an integer is odd or even. [Hint: Use the remainder operator. An even number is a multiple of 2. Any multiple of 2 leaves a remainder of 0 when divided by 2.]”\n",
    "\n",
    "Excerpt From\n",
    "Intro to Python for Computer Science and Data Science: Learning to Program with AI, Big Data and The Cloud (for . .)\n",
    "Paul J. Deitel\n",
    "This material may be protected by copyright.'''\n",
    "\n",
    "x = int(input(\"Enter the value of x: \" ))\n",
    "\n",
    "if x%2 == 0:\n",
    "    print(\"Even\")\n",
    "else:\n",
    "    print(\"Odd\")"
   ]
  },
  {
   "cell_type": "code",
   "execution_count": 19,
   "metadata": {},
   "outputs": [
    {
     "name": "stdout",
     "output_type": "stream",
     "text": [
      "True\n"
     ]
    }
   ],
   "source": [
    "'''“2.7 (Multiples) Use if statements to determine whether 1024 is a multiple of 4 and whether 2 is a multiple of 10. (Hint: Use the remainder operator.)”\n",
    "\n",
    "Excerpt From\n",
    "Intro to Python for Computer Science and Data Science: Learning to Program with AI, Big Data and The Cloud (for . .)\n",
    "Paul J. Deitel\n",
    "This material may be protected by copyright.'''\n",
    "\n",
    "if 1024%4 == 0:\n",
    "    print(\"True\")\n",
    "# elif y*2 == 10 and y%2 == 0:\n",
    "#     print(\"True\")\n",
    "else:\n",
    "    print(\"False\")"
   ]
  },
  {
   "cell_type": "code",
   "execution_count": 20,
   "metadata": {},
   "outputs": [
    {
     "name": "stdout",
     "output_type": "stream",
     "text": [
      "False\n"
     ]
    }
   ],
   "source": [
    "'''“2.7 (Multiples) Use if statements to determine whether 1024 is a multiple of 4 and whether 2 is a multiple of 10. (Hint: Use the remainder operator.)”\n",
    "\n",
    "Excerpt From\n",
    "Intro to Python for Computer Science and Data Science: Learning to Program with AI, Big Data and The Cloud (for . .)\n",
    "Paul J. Deitel\n",
    "This material may be protected by copyright.'''\n",
    "\n",
    "if 2%10 == 0:\n",
    "    print(\"True\")\n",
    "else:\n",
    "    print(\"False\")"
   ]
  },
  {
   "cell_type": "code",
   "execution_count": 33,
   "metadata": {},
   "outputs": [
    {
     "name": "stdout",
     "output_type": "stream",
     "text": [
      "number square cube\n",
      "0 \t 0 \t 0 \t\n",
      "1 \t 1 \t 1 \t\n",
      "2 \t 4 \t 8 \t\n",
      "3 \t 9 \t 27 \t\n",
      "4 \t 16 \t 64 \t\n",
      "5 \t 25 \t 125 \t\n"
     ]
    }
   ],
   "source": [
    "'''“2.8 (Table of Squares and Cubes) Write a script that calculates the squares and cubes of the numbers from 0 to 5. Print the resulting values in table format, as shown below. Use the tab escape sequence to achieve the three-column output.”\n",
    "\n",
    "Excerpt From\n",
    "Intro to Python for Computer Science and Data Science: Learning to Program with AI, Big Data and The Cloud (for . .)\n",
    "Paul J. Deitel\n",
    "This material may be protected by copyright.'''\n",
    "\n",
    "# y = int(input(\"Input the value of y\"))\n",
    "\n",
    "print(\"number\", \"square\", \"cube\")\n",
    "for i in range(6):\n",
    "    print(i,'\\t', i**2,'\\t', i**3, '\\t', end=\"\\n\")"
   ]
  },
  {
   "cell_type": "code",
   "execution_count": 38,
   "metadata": {},
   "outputs": [
    {
     "name": "stdout",
     "output_type": "stream",
     "text": [
      "65\n",
      "66\n",
      "67\n",
      "68\n",
      "98\n",
      "99\n",
      "100\n",
      "42\n",
      "43\n",
      "32\n"
     ]
    }
   ],
   "source": [
    "'''2.9 “Display the integer equivalents of B C D b c d 0 1 2 $ * +  and the space character.”\n",
    "\n",
    "Excerpt From\n",
    "Intro to Python for Computer Science and Data Science: Learning to Program with AI, Big Data and The Cloud (for . .)\n",
    "Paul J. Deitel\n",
    "This material may be protected by copyright.'''\n",
    "\n",
    "print(ord('A'))\n",
    "\n",
    "print(ord('B'), ord('C'), ord('D'), ord('b'), ord('c'), ord('d'), ord('*'), ord('+'), ord(' '), sep=\"\\n\")"
   ]
  },
  {
   "cell_type": "code",
   "execution_count": 63,
   "metadata": {},
   "outputs": [
    {
     "name": "stdout",
     "output_type": "stream",
     "text": [
      "The sum of q, w, e is:  369\n",
      "The average of q, w, e is:  123.0\n",
      "The minimum of q, w, e is:  123\n",
      "The maximum of q, w, e:  123\n"
     ]
    }
   ],
   "source": [
    "'''“2.10 (Arithmetic, Smallest and Largest) Write a script that inputs three integers from the user. Display the sum, average, product, smallest and largest of the numbers. Note that each of these is a reduction in functional-style programming.”\n",
    "\n",
    "Excerpt From\n",
    "Intro to Python for Computer Science and Data Science: Learning to Program with AI, Big Data and The Cloud (for . .)\n",
    "Paul J. Deitel\n",
    "This material may be protected by copyright.'''\n",
    "\n",
    "q = int(input(\"Enter value q: \"))\n",
    "w = int(input(\"Enter value w: \"))\n",
    "e = int(input(\"Enter value e: \"))\n",
    "\n",
    "print(\"The sum of q, w, e is: \", q+w+e)\n",
    "print(\"The average of q, w, e is: \", (q+w+e)/3)\n",
    "print(\"The minimum of q, w, e is: \", min(q,w,e))\n",
    "print(\"The maximum of q, w, e: \", max(q,w,e))"
   ]
  },
  {
   "cell_type": "code",
   "execution_count": 62,
   "metadata": {},
   "outputs": [
    {
     "name": "stdout",
     "output_type": "stream",
     "text": [
      "22345\n",
      "['2', '2', '3', '4', '5']\n"
     ]
    }
   ],
   "source": [
    "'''“2.11 (Separating the Digits in an Integer) Write a script that inputs a five-digit integer from the user. Separate the number into its individual digits. Print them separated by three spaces each. For example, if the user types in the number 42339, the script should print”\n",
    "\n",
    "Excerpt From\n",
    "Intro to Python for Computer Science and Data Science: Learning to Program with AI, Big Data and The Cloud (for . .)\n",
    "Paul J. Deitel\n",
    "This material may be protected by copyright.'''\n",
    "\n",
    "f = int(input(\"Enter value of f: \"))\n",
    "\n",
    "new_f = str(f)\n",
    "\n",
    "print(new_f)\n",
    "list1=[]\n",
    "\n",
    "for x in new_f:\n",
    "    list1.append(x)\n",
    "\n",
    "print(list1)\n",
    "\n",
    "# for u in list1:\n",
    "#     print(u)"
   ]
  },
  {
   "cell_type": "code",
   "execution_count": 6,
   "metadata": {},
   "outputs": [
    {
     "name": "stdout",
     "output_type": "stream",
     "text": [
      "17.5\n",
      "<class 'decimal.Decimal'>\n",
      "<class 'decimal.Decimal'>\n",
      "17.5\n",
      "<class 'float'>\n"
     ]
    }
   ],
   "source": [
    "from decimal import Decimal\n",
    "\n",
    "x = Decimal('12.5')\n",
    "y = Decimal('5')\n",
    "\n",
    "print(x+y)\n",
    "\n",
    "print(type(x))\n",
    "print(type(y))\n",
    "\n",
    "z = 12.5\n",
    "a = 5\n",
    "\n",
    "b = z+a\n",
    "\n",
    "print(b)\n",
    "print(type(b))\n"
   ]
  },
  {
   "cell_type": "code",
   "execution_count": 17,
   "metadata": {},
   "outputs": [
    {
     "ename": "IndentationError",
     "evalue": "unexpected indent (1104196596.py, line 12)",
     "output_type": "error",
     "traceback": [
      "\u001b[0;36m  Cell \u001b[0;32mIn[17], line 12\u001b[0;36m\u001b[0m\n\u001b[0;31m    if result == 1:\u001b[0m\n\u001b[0m    ^\u001b[0m\n\u001b[0;31mIndentationError\u001b[0m\u001b[0;31m:\u001b[0m unexpected indent\n"
     ]
    }
   ],
   "source": [
    "\"\"\"Using nested control statements to analyze examination results.\"\"\"\n",
    "# initialize variables\n",
    "\n",
    "passes = 0  # number of passes\n",
    "failures = 0  # number of failures\n",
    "\n",
    "# process 10 students\n",
    "for student in range(10):\n",
    "    # get one exam result\n",
    "   result = int(input('Enter result (1=pass, 2=fail): '))\n",
    "   \n",
    "    if result == 1:\n",
    "        passes = passes + 1\n",
    "    else:\n",
    "        failures = failures + 1\n",
    "\n",
    "# termination phase\n",
    "print('Passed:', passes)\n",
    "print('Failed:', failures)\n",
    "\n",
    "if passes > 8:\n",
    "    print('Bonus to instructor')"
   ]
  },
  {
   "cell_type": "code",
   "execution_count": 4,
   "metadata": {},
   "outputs": [
    {
     "name": "stdout",
     "output_type": "stream",
     "text": [
      "Passed: 8\n",
      "Failed: 2\n",
      "Bonus to instructor\n"
     ]
    }
   ],
   "source": [
    "\"\"\"Using nested control statements to analyze examination results.\"\"\"\n",
    "# initialize variables\n",
    "passes = 0  # number of passes\n",
    "failures = 0  # number of failures\n",
    "\n",
    "# process 10 students\n",
    "for student in range(10):\n",
    "    # get one exam result\n",
    "    result = int(input('Enter result (1=pass, 2=fail): '))\n",
    "   \n",
    "    if result == 1:\n",
    "        passes = passes + 1\n",
    "    else:\n",
    "        failures = failures + 1\n",
    "\n",
    "# termination phase\n",
    "print('Passed:', passes)\n",
    "print('Failed:', failures)\n",
    "\n",
    "if passes >= 8:\n",
    "    print('Bonus to instructor')\n",
    "else:\n",
    "    print('No bonus yet')\n"
   ]
  },
  {
   "cell_type": "code",
   "execution_count": 1,
   "metadata": {},
   "outputs": [
    {
     "name": "stdout",
     "output_type": "stream",
     "text": [
      "Passed: 10\n",
      "Failed: 0\n",
      "Bonus to instructor\n"
     ]
    }
   ],
   "source": [
    "'''“3.1 (Validating User Input) Modify the script of Fig3.3.  to validate its inputs. For any input, if the value entered is other than 1 or 2, keep looping until the user enters a correct value. Use one counter to keep track of the number of passes, then calculate the number of failures after all the user’s inputs have been received.”\n",
    "\n",
    "Excerpt From\n",
    "Intro to Python for Computer Science and Data Science: Learning to Program with AI, Big Data and The Cloud (for . .)\n",
    "Paul J. Deitel\n",
    "This material may be protected by copyright.'''\n",
    "\n",
    "\"\"\"Using nested control statements to analyze examination results.\"\"\"\n",
    "# initialize variables\n",
    "passes = 0  # number of passes\n",
    "failures = 0  # number of failures\n",
    "\n",
    "# process 10 students\n",
    "for student in range(10):\n",
    "    # get one exam result\n",
    "    \n",
    "    result = int(input('Enter result (1=pass, 2=fail): '))\n",
    "    \n",
    "    if result == 1:\n",
    "        passes = passes + 1\n",
    "    elif result == 2:\n",
    "        failures = failures + 1\n",
    "    else:\n",
    "        continue\n",
    "\n",
    "# termination phase\n",
    "print('Passed:', passes)\n",
    "print('Failed:', failures)\n",
    "\n",
    "if passes >= 8:\n",
    "    print('Bonus to instructor')\n",
    "else:\n",
    "    print('No bonus yet')\n"
   ]
  },
  {
   "cell_type": "code",
   "execution_count": 6,
   "metadata": {},
   "outputs": [],
   "source": [
    "'''“3.1 (Validating User Input) Modify the script of Fig3.3.  to validate its inputs. For any input, if the value entered is other than 1 or 2, keep looping until the user enters a correct value. Use one counter to keep track of the number of passes, then calculate the number of failures after all the user’s inputs have been received.”\n",
    "\n",
    "Excerpt From\n",
    "Intro to Python for Computer Science and Data Science: Learning to Program with AI, Big Data and The Cloud (for . .)\n",
    "Paul J. Deitel\n",
    "This material may be protected by copyright.'''\n",
    "\n",
    "\"\"\"Using nested control statements to analyze examination results.\"\"\"\n",
    "# initialize variables\n",
    "passes = 0  # number of passes\n",
    "failures = 0  # number of failures\n",
    "\n",
    "# process 10 students\n",
    "for student in range(10):\n",
    "    # get one exam result\n",
    "    \n",
    "    while True:\n",
    "        try:\n",
    "            result = int(input('Enter result (1=pass, 2=fail): '))\n",
    "            if result == 1:\n",
    "                passes = passes + 1\n",
    "            elif result == 2:\n",
    "                failures = failures + 1\n",
    "            else:\n",
    "                break\n",
    "        except ValueError:\n",
    "            print(\"Enter 1 or 2\") \n",
    "\n",
    "# termination phase\n",
    "print('Passed:', passes)\n",
    "print('Failed:', failures)\n",
    "\n",
    "if passes >= 8:\n",
    "    print('Bonus to instructor')\n",
    "else:\n",
    "    print('No bonus yet')\n"
   ]
  },
  {
   "cell_type": "code",
   "execution_count": 1,
   "metadata": {},
   "outputs": [
    {
     "name": "stdout",
     "output_type": "stream",
     "text": [
      ">>>>>>>>>>\n",
      "<<<<<<<<<<\n",
      ">>>>>>>>>>\n",
      "<<<<<<<<<<\n",
      ">>>>>>>>>>\n",
      "<<<<<<<<<<\n",
      ">>>>>>>>>>\n",
      "<<<<<<<<<<\n",
      ">>>>>>>>>>\n",
      "<<<<<<<<<<\n"
     ]
    }
   ],
   "source": [
    "'''“3.3 (What Does This Code Do?)  What does the following program print?\n",
    "for row in range(10):\n",
    "    for column in range(10):\n",
    "        print('<' if row % 2 == 1 else '>', end='')\n",
    "    print()”\n",
    "    \n",
    "\n",
    "Excerpt From\n",
    "Intro to Python for Computer Science and Data Science: Learning to Program with AI, Big Data and The Cloud (for . .)\n",
    "Paul J. Deitel\n",
    "This material may be protected by copyright.'''\n",
    "\n",
    "'''It prints 10 > symbols for each odd number of row, and then 10 < symbols for each even number of row'''\n",
    "\n",
    "for row in range(10):\n",
    "    for column in range(10):\n",
    "        print('<' if row % 2 == 1 else '>', end='')\n",
    "    print()"
   ]
  },
  {
   "cell_type": "code",
   "execution_count": 3,
   "metadata": {},
   "outputs": [
    {
     "name": "stdout",
     "output_type": "stream",
     "text": [
      "@@@@@@@\n",
      "@@@@@@@\n"
     ]
    }
   ],
   "source": [
    "'''“3.4 (Fill in the Missing Code)  In the code below\n",
    "for ***:\n",
    "    for ***:”\n",
    "\n",
    "print('@')\n",
    "    print()\n",
    "    \n",
    "replace the *** so that when you execute the code, it displays two rows, each containing seven @ symbols, as in:\n",
    "@@@@@@@\n",
    "@@@@@@@”\n",
    "\n",
    "Excerpt From\n",
    "Intro to Python for Computer Science and Data Science: Learning to Program with AI, Big Data and The Cloud (for . .)\n",
    "Paul J. Deitel\n",
    "This material may be protected by copyright.'''\n",
    "\n",
    "for x in range(2):\n",
    "    for y in range(7):\n",
    "        print(\"@\", end=\"\")\n",
    "    print()"
   ]
  },
  {
   "cell_type": "code",
   "execution_count": 4,
   "metadata": {},
   "outputs": [
    {
     "name": "stdout",
     "output_type": "stream",
     "text": [
      "Enter two integers, and I will tell you the relationships they satisfy.\n",
      "2 is equal to  2\n"
     ]
    }
   ],
   "source": [
    "'''“3.5 (if…else Statements)  Reimplement the script of Fig2.1.  using three if…else statements rather than six if statements. [Hint: For example, think of == and != as “opposite” tests.]”\n",
    "\n",
    " 1 # fig02_01.py\n",
    " 2 \"\"\"Comparing integers using if statements and comparison operators.\"\"\"\n",
    " 3\n",
    " 4 print('Enter two integers, and I will tell you',\n",
    " 5       'the relationships they satisfy.')\n",
    " 6\n",
    " 7 # read first integer\n",
    " 8 number1 = int(input('Enter first integer: '))\n",
    " 9\n",
    "10 # read second integer\n",
    "11 number2 = int(input('Enter second integer: '))\n",
    "12\n",
    "13 if number1 == number2:\n",
    "14     print(number1, 'is equal to', number2)\n",
    "15\n",
    "16 if number1 != number2:\n",
    "17     print(number1, 'is not equal to', number2)\n",
    "18\n",
    "19 if number1 < number2:\n",
    "20     print(number1, 'is less than', number2)\n",
    "21\n",
    "22 if number1 > number2:\n",
    "23     print(number1, 'is greater than', number2)\n",
    "24\n",
    "25 if number1 <= number2:\n",
    "26     print(number1, 'is less than or equal to', number2)\n",
    "27\n",
    "28 if number1 >= number2:\n",
    "29     print(number1, 'is greater than or equal to', number2)”\n",
    "\n",
    "Excerpt From\n",
    "Intro to Python for Computer Science and Data Science: Learning to Program with AI, Big Data and The Cloud (for . .)\n",
    "Paul J. Deitel\n",
    "This material may be protected by copyright.'''\n",
    "\n",
    "\n",
    "\"\"\"NEW CODE\"\"\"\n",
    "\n",
    "print('Enter two integers, and I will tell you',\n",
    "     'the relationships they satisfy.')\n",
    "\n",
    "# read first integer\n",
    "number1 = int(input('Enter first integer: '))\n",
    "\n",
    "# read second integer\n",
    "number2 = int(input('Enter second integer: '))\n",
    "\n",
    "if number1>number2:\n",
    "    print(number1, 'is greater than', number2)\n",
    "elif number1<number2:\n",
    "    print(number1, 'is less than', number2)\n",
    "else:\n",
    "    print(number1, 'is equal to ', number2)\n",
    "\n"
   ]
  },
  {
   "cell_type": "code",
   "execution_count": null,
   "metadata": {},
   "outputs": [],
   "source": [
    "'''“3.6 (Turing Test)  The great British mathematician Alan Turing proposed a simple test to determine whether machines could exhibit intelligent behavior. A user sits at a computer and does the same text chat with a human sitting at a computer and a computer operating by itself. The user doesn’t know if the responses are coming back from the human or the independent computer. If the user can’t distinguish which responses are coming from the human and which are coming from the computer, then it’s reasonable to say that the computer is exhibiting intelligence.\n",
    "Create a script that plays the part of the independent computer, giving its user a simple medical diagnosis. The script should prompt the user with 'What is your problem?' When the user answers and presses Enter, the script should simply ignore the user’s input, then prompt the user again with 'Have you had this problem before (yes or no)?' If the user enters 'yes', print 'Well, you have it again.' If the user answers 'no', print 'Well, you have it now.'\n",
    "Would this conversation convince the user that the entity at the other end exhibited intelligent behavior? Why or why not?”\n",
    "\n",
    "Excerpt From\n",
    "Intro to Python for Computer Science and Data Science: Learning to Program with AI, Big Data and The Cloud (for . .)\n",
    "Paul J. Deitel\n",
    "This material may be protected by copyright.'''\n",
    "\n",
    "\n"
   ]
  }
 ],
 "metadata": {
  "kernelspec": {
   "display_name": "Python 3",
   "language": "python",
   "name": "python3"
  },
  "language_info": {
   "codemirror_mode": {
    "name": "ipython",
    "version": 3
   },
   "file_extension": ".py",
   "mimetype": "text/x-python",
   "name": "python",
   "nbconvert_exporter": "python",
   "pygments_lexer": "ipython3",
   "version": "3.12.1"
  }
 },
 "nbformat": 4,
 "nbformat_minor": 2
}
