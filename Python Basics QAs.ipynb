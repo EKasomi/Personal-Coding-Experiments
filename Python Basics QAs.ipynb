{
 "cells": [
  {
   "cell_type": "code",
   "execution_count": 7,
   "metadata": {},
   "outputs": [
    {
     "name": "stdout",
     "output_type": "stream",
     "text": [
      "Odd\n"
     ]
    }
   ],
   "source": [
    "'''“2.6 (Odd or Even) Use if statements to determine whether an integer is odd or even. [Hint: Use the remainder operator. An even number is a multiple of 2. Any multiple of 2 leaves a remainder of 0 when divided by 2.]”\n",
    "\n",
    "Excerpt From\n",
    "Intro to Python for Computer Science and Data Science: Learning to Program with AI, Big Data and The Cloud (for . .)\n",
    "Paul J. Deitel\n",
    "This material may be protected by copyright.'''\n",
    "\n",
    "x = int(input(\"Enter the value of x: \" ))\n",
    "\n",
    "if x%2 == 0:\n",
    "    print(\"Even\")\n",
    "else:\n",
    "    print(\"Odd\")"
   ]
  },
  {
   "cell_type": "code",
   "execution_count": 19,
   "metadata": {},
   "outputs": [
    {
     "name": "stdout",
     "output_type": "stream",
     "text": [
      "True\n"
     ]
    }
   ],
   "source": [
    "'''“2.7 (Multiples) Use if statements to determine whether 1024 is a multiple of 4 and whether 2 is a multiple of 10. (Hint: Use the remainder operator.)”\n",
    "\n",
    "Excerpt From\n",
    "Intro to Python for Computer Science and Data Science: Learning to Program with AI, Big Data and The Cloud (for . .)\n",
    "Paul J. Deitel\n",
    "This material may be protected by copyright.'''\n",
    "\n",
    "if 1024%4 == 0:\n",
    "    print(\"True\")\n",
    "# elif y*2 == 10 and y%2 == 0:\n",
    "#     print(\"True\")\n",
    "else:\n",
    "    print(\"False\")"
   ]
  },
  {
   "cell_type": "code",
   "execution_count": 20,
   "metadata": {},
   "outputs": [
    {
     "name": "stdout",
     "output_type": "stream",
     "text": [
      "False\n"
     ]
    }
   ],
   "source": [
    "'''“2.7 (Multiples) Use if statements to determine whether 1024 is a multiple of 4 and whether 2 is a multiple of 10. (Hint: Use the remainder operator.)”\n",
    "\n",
    "Excerpt From\n",
    "Intro to Python for Computer Science and Data Science: Learning to Program with AI, Big Data and The Cloud (for . .)\n",
    "Paul J. Deitel\n",
    "This material may be protected by copyright.'''\n",
    "\n",
    "if 2%10 == 0:\n",
    "    print(\"True\")\n",
    "else:\n",
    "    print(\"False\")"
   ]
  },
  {
   "cell_type": "code",
   "execution_count": 33,
   "metadata": {},
   "outputs": [
    {
     "name": "stdout",
     "output_type": "stream",
     "text": [
      "number square cube\n",
      "0 \t 0 \t 0 \t\n",
      "1 \t 1 \t 1 \t\n",
      "2 \t 4 \t 8 \t\n",
      "3 \t 9 \t 27 \t\n",
      "4 \t 16 \t 64 \t\n",
      "5 \t 25 \t 125 \t\n"
     ]
    }
   ],
   "source": [
    "'''“2.8 (Table of Squares and Cubes) Write a script that calculates the squares and cubes of the numbers from 0 to 5. Print the resulting values in table format, as shown below. Use the tab escape sequence to achieve the three-column output.”\n",
    "\n",
    "Excerpt From\n",
    "Intro to Python for Computer Science and Data Science: Learning to Program with AI, Big Data and The Cloud (for . .)\n",
    "Paul J. Deitel\n",
    "This material may be protected by copyright.'''\n",
    "\n",
    "# y = int(input(\"Input the value of y\"))\n",
    "\n",
    "print(\"number\", \"square\", \"cube\")\n",
    "for i in range(6):\n",
    "    print(i,'\\t', i**2,'\\t', i**3, '\\t', end=\"\\n\")"
   ]
  },
  {
   "cell_type": "code",
   "execution_count": 38,
   "metadata": {},
   "outputs": [
    {
     "name": "stdout",
     "output_type": "stream",
     "text": [
      "65\n",
      "66\n",
      "67\n",
      "68\n",
      "98\n",
      "99\n",
      "100\n",
      "42\n",
      "43\n",
      "32\n"
     ]
    }
   ],
   "source": [
    "'''2.9 “Display the integer equivalents of B C D b c d 0 1 2 $ * +  and the space character.”\n",
    "\n",
    "Excerpt From\n",
    "Intro to Python for Computer Science and Data Science: Learning to Program with AI, Big Data and The Cloud (for . .)\n",
    "Paul J. Deitel\n",
    "This material may be protected by copyright.'''\n",
    "\n",
    "print(ord('A'))\n",
    "\n",
    "print(ord('B'), ord('C'), ord('D'), ord('b'), ord('c'), ord('d'), ord('*'), ord('+'), ord(' '), sep=\"\\n\")"
   ]
  },
  {
   "cell_type": "code",
   "execution_count": 63,
   "metadata": {},
   "outputs": [
    {
     "name": "stdout",
     "output_type": "stream",
     "text": [
      "The sum of q, w, e is:  369\n",
      "The average of q, w, e is:  123.0\n",
      "The minimum of q, w, e is:  123\n",
      "The maximum of q, w, e:  123\n"
     ]
    }
   ],
   "source": [
    "'''“2.10 (Arithmetic, Smallest and Largest) Write a script that inputs three integers from the user. Display the sum, average, product, smallest and largest of the numbers. Note that each of these is a reduction in functional-style programming.”\n",
    "\n",
    "Excerpt From\n",
    "Intro to Python for Computer Science and Data Science: Learning to Program with AI, Big Data and The Cloud (for . .)\n",
    "Paul J. Deitel\n",
    "This material may be protected by copyright.'''\n",
    "\n",
    "q = int(input(\"Enter value q: \"))\n",
    "w = int(input(\"Enter value w: \"))\n",
    "e = int(input(\"Enter value e: \"))\n",
    "\n",
    "print(\"The sum of q, w, e is: \", q+w+e)\n",
    "print(\"The average of q, w, e is: \", (q+w+e)/3)\n",
    "print(\"The minimum of q, w, e is: \", min(q,w,e))\n",
    "print(\"The maximum of q, w, e: \", max(q,w,e))"
   ]
  },
  {
   "cell_type": "code",
   "execution_count": 62,
   "metadata": {},
   "outputs": [
    {
     "name": "stdout",
     "output_type": "stream",
     "text": [
      "22345\n",
      "['2', '2', '3', '4', '5']\n"
     ]
    }
   ],
   "source": [
    "'''“2.11 (Separating the Digits in an Integer) Write a script that inputs a five-digit integer from the user. Separate the number into its individual digits. Print them separated by three spaces each. For example, if the user types in the number 42339, the script should print”\n",
    "\n",
    "Excerpt From\n",
    "Intro to Python for Computer Science and Data Science: Learning to Program with AI, Big Data and The Cloud (for . .)\n",
    "Paul J. Deitel\n",
    "This material may be protected by copyright.'''\n",
    "\n",
    "f = int(input(\"Enter value of f: \"))\n",
    "\n",
    "new_f = str(f)\n",
    "\n",
    "print(new_f)\n",
    "list1=[]\n",
    "\n",
    "for x in new_f:\n",
    "    list1.append(x)\n",
    "\n",
    "print(list1)\n",
    "\n",
    "# for u in list1:\n",
    "#     print(u)"
   ]
  },
  {
   "cell_type": "code",
   "execution_count": null,
   "metadata": {},
   "outputs": [],
   "source": []
  }
 ],
 "metadata": {
  "kernelspec": {
   "display_name": "Python 3",
   "language": "python",
   "name": "python3"
  },
  "language_info": {
   "codemirror_mode": {
    "name": "ipython",
    "version": 3
   },
   "file_extension": ".py",
   "mimetype": "text/x-python",
   "name": "python",
   "nbconvert_exporter": "python",
   "pygments_lexer": "ipython3",
   "version": "3.12.1"
  }
 },
 "nbformat": 4,
 "nbformat_minor": 2
}
