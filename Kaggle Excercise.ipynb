{
 "cells": [
  {
   "cell_type": "code",
   "execution_count": 15,
   "metadata": {},
   "outputs": [
    {
     "name": "stdout",
     "output_type": "stream",
     "text": [
      "13\n"
     ]
    }
   ],
   "source": [
    "K=int(10)\n",
    "J=int(10)\n",
    "Q=int(10)\n",
    "\n",
    "A = int(1) or int(11)\n",
    "\n",
    "hand_1 = ['K', 'A', 2]\n",
    "\n",
    "hand_1_integers = [A if card == 'A' else K if card == 'K' else J if card == 'J' else card for card in hand_1]\n",
    "\n",
    "total_of_hand_1 = 0\n",
    "    \n",
    "#for i in range(len(hand_1)):\n",
    "#    while sum(hand_1_integers)<21:\n",
    "#        i+=1\n",
    "#        i+=total_of_hand_1\n",
    "\n",
    "for i in range(len(hand_1)):\n",
    "    total_of_hand_1 += hand_1_integers[i]  # Add the value at index i to total_of_hand_1\n",
    "    if sum(hand_1_integers) >= 21:\n",
    "        break\n",
    "        \n",
    "print(total_of_hand_1)"
   ]
  },
  {
   "cell_type": "code",
   "execution_count": null,
   "metadata": {},
   "outputs": [],
   "source": [
    "import numpy as np\n",
    "\n"
   ]
  },
  {
   "cell_type": "code",
   "execution_count": 3,
   "metadata": {},
   "outputs": [
    {
     "name": "stdout",
     "output_type": "stream",
     "text": [
      "Hello, Wor\n",
      "[1, 2, 3]\n",
      "(1, 2, 3, 4)\n"
     ]
    }
   ],
   "source": [
    "my_string = \"Hello, World!\"\n",
    "print(my_string[:-3])  # Outputs: 'Hello, Wo'\n",
    "\n",
    "my_list = [1, 2, 3, 4, 5]\n",
    "print(my_list[:-2])  # Outputs: [1, 2, 3]\n",
    "\n",
    "my_tuple = (1, 2, 3, 4, 5)\n",
    "print(my_tuple[:-1])  # Outputs: (1, 2, 3, 4)"
   ]
  },
  {
   "cell_type": "code",
   "execution_count": 1,
   "metadata": {},
   "outputs": [
    {
     "name": "stdout",
     "output_type": "stream",
     "text": [
      "4.0\n",
      "4\n"
     ]
    }
   ],
   "source": [
    "x = 8\n",
    "y = 2\n",
    "\n",
    "print(x/y)\n",
    "print(x//y)"
   ]
  },
  {
   "cell_type": "code",
   "execution_count": 10,
   "metadata": {},
   "outputs": [
    {
     "data": {
      "text/plain": [
       "False"
      ]
     },
     "execution_count": 10,
     "metadata": {},
     "output_type": "execute_result"
    }
   ],
   "source": [
    "def has_lucky_number(arr):\n",
    "    for num in arr:\n",
    "        if num % 7 == 0:\n",
    "            return True\n",
    "        else:\n",
    "            return False\n",
    "        \n",
    "has_lucky_number([1, 3, 7, 12])"
   ]
  },
  {
   "cell_type": "code",
   "execution_count": 9,
   "metadata": {},
   "outputs": [
    {
     "data": {
      "text/plain": [
       "True"
      ]
     },
     "execution_count": 9,
     "metadata": {},
     "output_type": "execute_result"
    }
   ],
   "source": [
    "def has_lucky_number1(arr1):\n",
    "    for x in arr1:\n",
    "        if x % 7 == 0:\n",
    "            return True\n",
    "    else:\n",
    "        return False\n",
    "        \n",
    "has_lucky_number1([1, 3, 7, 12, 0, 14])"
   ]
  }
 ],
 "metadata": {
  "kernelspec": {
   "display_name": "Python 3",
   "language": "python",
   "name": "python3"
  },
  "language_info": {
   "codemirror_mode": {
    "name": "ipython",
    "version": 3
   },
   "file_extension": ".py",
   "mimetype": "text/x-python",
   "name": "python",
   "nbconvert_exporter": "python",
   "pygments_lexer": "ipython3",
   "version": "3.12.1"
  }
 },
 "nbformat": 4,
 "nbformat_minor": 2
}
