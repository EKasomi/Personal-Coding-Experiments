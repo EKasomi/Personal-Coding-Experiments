{
 "cells": [
  {
   "cell_type": "code",
   "execution_count": 15,
   "metadata": {},
   "outputs": [
    {
     "name": "stdout",
     "output_type": "stream",
     "text": [
      "13\n"
     ]
    }
   ],
   "source": [
    "K=int(10)\n",
    "J=int(10)\n",
    "Q=int(10)\n",
    "\n",
    "A = int(1) or int(11)\n",
    "\n",
    "hand_1 = ['K', 'A', 2]\n",
    "\n",
    "hand_1_integers = [A if card == 'A' else K if card == 'K' else J if card == 'J' else card for card in hand_1]\n",
    "\n",
    "total_of_hand_1 = 0\n",
    "    \n",
    "#for i in range(len(hand_1)):\n",
    "#    while sum(hand_1_integers)<21:\n",
    "#        i+=1\n",
    "#        i+=total_of_hand_1\n",
    "\n",
    "for i in range(len(hand_1)):\n",
    "    total_of_hand_1 += hand_1_integers[i]  # Add the value at index i to total_of_hand_1\n",
    "    if sum(hand_1_integers) >= 21:\n",
    "        break\n",
    "        \n",
    "print(total_of_hand_1)"
   ]
  }
 ],
 "metadata": {
  "kernelspec": {
   "display_name": "Python 3",
   "language": "python",
   "name": "python3"
  },
  "language_info": {
   "codemirror_mode": {
    "name": "ipython",
    "version": 3
   },
   "file_extension": ".py",
   "mimetype": "text/x-python",
   "name": "python",
   "nbconvert_exporter": "python",
   "pygments_lexer": "ipython3",
   "version": "3.12.1"
  }
 },
 "nbformat": 4,
 "nbformat_minor": 2
}
